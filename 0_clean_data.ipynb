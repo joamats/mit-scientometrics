{
 "cells": [
  {
   "cell_type": "code",
   "execution_count": 35,
   "metadata": {},
   "outputs": [],
   "source": [
    "import pandas as pd\n",
    "import numpy as np\n"
   ]
  },
  {
   "cell_type": "code",
   "execution_count": 74,
   "metadata": {},
   "outputs": [],
   "source": [
    "df_all = pd.read_csv('data_light/authors_journals.csv')\n",
    "\n",
    "# Remove repeated authors within the same paper\n",
    "df_all = df_all.drop_duplicates()\n",
    "\n",
    "# Assign LMICs\n",
    "lmics_codes = pd.read_csv('data_light/lmics_codes.csv')['Code'].values\n",
    "\n",
    "# Group by researcher_id to get one row per author\n",
    "df_all = df_all.groupby('researcher_id').agg({'journal.title': 'first', 'aff_country_code': 'first'}).reset_index()\n",
    "\n",
    "# Function to determine LMIC and use inside apply\n",
    "def is_lmic(x, lmics_codes):\n",
    "\n",
    "    # if x is None or x is np.nan:\n",
    "    if x == None:\n",
    "        return np.nan\n",
    "    elif x in lmics_codes:\n",
    "        return 1\n",
    "    else:\n",
    "        return 0\n",
    "    \n",
    "# Add LMIC column\n",
    "df_all['LMIC'] = df_all.aff_country_code.apply(lambda x: is_lmic(x, lmics_codes))\n",
    "\n",
    "# Assign gender\n",
    "gender_df = pd.read_feather('data/high_impact_publications.feather')[['researcher_id', 'gender', 'current_organization_id']]\n",
    "\n",
    "# merge with authors_journals.csv\n",
    "df_final = gender_df.merge(df_all, on='researcher_id').drop_duplicates()\n",
    "df_final = df_final[['researcher_id', 'gender', 'LMIC', 'current_organization_id']]\n",
    "\n",
    "df_final.to_csv('data_light/authors_info.csv', index=False)\n",
    "\n",
    "# Assign year\n",
    "year_df = pd.read_feather('data/high_impact_publications.feather')[['pub_id', 'year']]\n",
    "year_df = year_df.drop_duplicates()\n",
    "year_df.to_csv('data_light/pubs_info.csv', index=False)"
   ]
  },
  {
   "cell_type": "code",
   "execution_count": 59,
   "metadata": {},
   "outputs": [
    {
     "name": "stdout",
     "output_type": "stream",
     "text": [
      "183471 authors (beginning)\n",
      "97335 publications (beginning)\n",
      "7681 authors dropped where there was only one author\n",
      "175790 authors\n",
      "13658 authors dropped where papers had more than 30 authors\n",
      "162132 authors\n",
      "8529 authors dropped where papers had more than 40 authors\n",
      "167261 authors\n",
      "5903 authors dropped where papers had more than 50 authors\n",
      "169887 authors\n"
     ]
    }
   ],
   "source": [
    "df = pd.read_csv('data_light/authors_journals.csv') \\\n",
    "       .drop(['Unnamed: 0','aff_name', 'aff_city_id','author_name'], axis=1) \\\n",
    "       .rename(columns={'journal.title': 'journal'}) \n",
    "\n",
    "# merge with pub_info to get the year\n",
    "df = df.merge(pd.read_csv('data_light/pubs_info.csv'), on='pub_id')\n",
    "\n",
    "# merge with author_info to get the gender\n",
    "df = df.merge(pd.read_csv('data_light/authors_info.csv').drop(['current_organization_id'], axis=1), on='researcher_id')\n",
    "\n",
    "# just a pub_id - research_id pair, no duplicated, groupby\n",
    "# if one institution is LMIC, the author is LMIC\n",
    "df = df.groupby(['pub_id', 'researcher_id']).agg({'journal': 'first',\n",
    "                                                  'year': 'first',\n",
    "                                                  'gender': 'first',\n",
    "                                                  'aff_country_code': 'first',\n",
    "                                                  'aff_id': 'first',\n",
    "                                                  'LMIC': 'max'}).reset_index()\n",
    "\n",
    "# drop year 2023\n",
    "df = df[df['year'] != 2023]\n",
    "\n",
    "# exclude papers with only one author\n",
    "df1 = df.groupby('pub_id').filter(lambda x: len(x) > 1) \n",
    "print(f\"{len(df.researcher_id.unique())} authors (beginning)\")\n",
    "print(f\"{len(df.pub_id.unique())} publications (beginning)\")\n",
    "print(f\"{len(df.researcher_id.unique()) - len(df1.researcher_id.unique())} authors dropped where there was only one author\")\n",
    "print(f\"{len(df1.researcher_id.unique())} authors\")\n",
    "\n",
    "\n",
    "# exclude papers with more than 30, 40, 50 authors\n",
    "maxs = [30, 40, 50]\n",
    "\n",
    "for max_ in maxs:\n",
    "    \n",
    "       df2 = df1.groupby('pub_id').filter(lambda x: len(x) <= max_)\n",
    "       print(f\"{len(df1.researcher_id.unique()) - len(df2.researcher_id.unique())} authors dropped where papers had more than {max_} authors\")\n",
    "       print(f\"{len(df2.researcher_id.unique())} authors\")\n",
    "\n",
    "       df2.to_csv(f'data_light/clean/max_{max_}_authors.csv', index=False)\n"
   ]
  },
  {
   "cell_type": "code",
   "execution_count": 78,
   "metadata": {},
   "outputs": [],
   "source": [
    "# read the data max 30, 40, 50 authors and create pessimistic and optimistic datasets for gender missingness\n",
    "maxs = [30, 40, 50]\n",
    "\n",
    "for max_ in maxs:\n",
    "    df_baseline = pd.read_csv(f'data_light/clean/max_{max_}_authors.csv')\n",
    "\n",
    "    # replace missing gender info by female\n",
    "    df_opti = df_baseline.copy()\n",
    "    df_opti['gender'].fillna('female', inplace=True)\n",
    "    df_opti.to_csv(f'data_light/clean/gender_opti/max_{max_}_authors.csv', index=False)\n",
    "\n",
    "    # replace missing gender info by male\n",
    "    df_pessi = df_baseline.copy()\n",
    "    df_pessi['gender'].fillna('male', inplace=True)\n",
    "    df_pessi.to_csv(f'data_light/clean/gender_pessi/max_{max_}_authors.csv', index=False)\n",
    "\n",
    "    # replace missing LMIC info by 1\n",
    "    df_opti = df_baseline.copy()\n",
    "    df_opti['LMIC'].fillna(1, inplace=True)\n",
    "    df_opti.to_csv(f'data_light/clean/lmic_opti/max_{max_}_authors.csv', index=False)\n",
    "\n",
    "    # replace missing LMIC info by 0\n",
    "    df_pessi = df_baseline.copy()\n",
    "    df_pessi['LMIC'].fillna(0, inplace=True)\n",
    "    df_pessi.to_csv(f'data_light/clean/lmic_pessi/max_{max_}_authors.csv', index=False)"
   ]
  },
  {
   "cell_type": "code",
   "execution_count": 33,
   "metadata": {},
   "outputs": [
    {
     "data": {
      "text/plain": [
       "male      0.630675\n",
       "female    0.369325\n",
       "Name: gender, dtype: float64"
      ]
     },
     "execution_count": 33,
     "metadata": {},
     "output_type": "execute_result"
    }
   ],
   "source": [
    "# get the gender of the first author using df_opti and df_pessi\n",
    "\n",
    "df_opti.groupby('pub_id').gender.first().value_counts(normalize=True)"
   ]
  },
  {
   "cell_type": "code",
   "execution_count": 34,
   "metadata": {},
   "outputs": [
    {
     "data": {
      "text/plain": [
       "male      0.610233\n",
       "female    0.389767\n",
       "Name: gender, dtype: float64"
      ]
     },
     "execution_count": 34,
     "metadata": {},
     "output_type": "execute_result"
    }
   ],
   "source": [
    "df_opti.gender.value_counts(normalize=True)"
   ]
  }
 ],
 "metadata": {
  "kernelspec": {
   "display_name": "Python 3",
   "language": "python",
   "name": "python3"
  },
  "language_info": {
   "codemirror_mode": {
    "name": "ipython",
    "version": 3
   },
   "file_extension": ".py",
   "mimetype": "text/x-python",
   "name": "python",
   "nbconvert_exporter": "python",
   "pygments_lexer": "ipython3",
   "version": "3.10.11"
  },
  "orig_nbformat": 4
 },
 "nbformat": 4,
 "nbformat_minor": 2
}
